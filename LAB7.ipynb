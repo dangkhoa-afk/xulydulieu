{
 "cells": [
  {
   "cell_type": "code",
   "execution_count": 1,
   "metadata": {},
   "outputs": [],
   "source": [
    "import pandas as pd\n",
    "import numpy as np"
   ]
  },
  {
   "cell_type": "markdown",
   "metadata": {},
   "source": [
    "BAI 1"
   ]
  },
  {
   "cell_type": "code",
   "execution_count": 5,
   "metadata": {},
   "outputs": [
    {
     "name": "stdout",
     "output_type": "stream",
     "text": [
      "   order_id  customer_id  product_id  quantity  total_price\n",
      "0         1           70          25         8       887.63\n",
      "1         2           67          35        10        34.57\n",
      "2         3            3          41         5       960.27\n",
      "3         4           90          50         3       440.45\n",
      "4         5           70          40         7       900.92\n"
     ]
    }
   ],
   "source": [
    "file_path = 'lab7.csv'\n",
    "df = pd.read_csv(file_path)\n",
    "\n",
    "print(df.head())\n",
    "\n",
    "df.to_excel('orders.xlsx', index=False)\n",
    "\n",
    "selected_columns = ['order_id', 'customer_id', 'total_price']\n",
    "df_selected = df[selected_columns]"
   ]
  },
  {
   "cell_type": "code",
   "execution_count": 6,
   "metadata": {},
   "outputs": [
    {
     "name": "stderr",
     "output_type": "stream",
     "text": [
      "C:\\Users\\ADMIN\\AppData\\Local\\Temp\\ipykernel_5628\\4192329138.py:1: SettingWithCopyWarning: \n",
      "A value is trying to be set on a copy of a slice from a DataFrame.\n",
      "Try using .loc[row_indexer,col_indexer] = value instead\n",
      "\n",
      "See the caveats in the documentation: https://pandas.pydata.org/pandas-docs/stable/user_guide/indexing.html#returning-a-view-versus-a-copy\n",
      "  df_selected['store_id'] = np.random.randint(1,11,1000)\n"
     ]
    }
   ],
   "source": [
    "df_selected['store_id'] = np.random.randint(1,11,1000)"
   ]
  },
  {
   "cell_type": "code",
   "execution_count": 9,
   "metadata": {},
   "outputs": [],
   "source": [
    "df_selected.to_csv('lab7_store_id.csv', index=False)"
   ]
  },
  {
   "cell_type": "markdown",
   "metadata": {},
   "source": [
    "BAI 2"
   ]
  },
  {
   "cell_type": "code",
   "execution_count": 14,
   "metadata": {},
   "outputs": [],
   "source": [
    "import numpy as np\n",
    "from faker import Faker"
   ]
  },
  {
   "cell_type": "code",
   "execution_count": 15,
   "metadata": {},
   "outputs": [
    {
     "data": {
      "text/html": [
       "<div>\n",
       "<style scoped>\n",
       "    .dataframe tbody tr th:only-of-type {\n",
       "        vertical-align: middle;\n",
       "    }\n",
       "\n",
       "    .dataframe tbody tr th {\n",
       "        vertical-align: top;\n",
       "    }\n",
       "\n",
       "    .dataframe thead th {\n",
       "        text-align: right;\n",
       "    }\n",
       "</style>\n",
       "<table border=\"1\" class=\"dataframe\">\n",
       "  <thead>\n",
       "    <tr style=\"text-align: right;\">\n",
       "      <th></th>\n",
       "      <th>store_id</th>\n",
       "      <th>store_name</th>\n",
       "    </tr>\n",
       "  </thead>\n",
       "  <tbody>\n",
       "    <tr>\n",
       "      <th>0</th>\n",
       "      <td>1</td>\n",
       "      <td>Weeks, Fischer and Green</td>\n",
       "    </tr>\n",
       "    <tr>\n",
       "      <th>1</th>\n",
       "      <td>2</td>\n",
       "      <td>Burns and Sons</td>\n",
       "    </tr>\n",
       "    <tr>\n",
       "      <th>2</th>\n",
       "      <td>3</td>\n",
       "      <td>Merritt, Morgan and Walker</td>\n",
       "    </tr>\n",
       "    <tr>\n",
       "      <th>3</th>\n",
       "      <td>4</td>\n",
       "      <td>Grant, Smith and Velazquez</td>\n",
       "    </tr>\n",
       "    <tr>\n",
       "      <th>4</th>\n",
       "      <td>5</td>\n",
       "      <td>Green Group</td>\n",
       "    </tr>\n",
       "    <tr>\n",
       "      <th>5</th>\n",
       "      <td>6</td>\n",
       "      <td>Hancock, Greene and Davis</td>\n",
       "    </tr>\n",
       "    <tr>\n",
       "      <th>6</th>\n",
       "      <td>7</td>\n",
       "      <td>Morgan Group</td>\n",
       "    </tr>\n",
       "    <tr>\n",
       "      <th>7</th>\n",
       "      <td>8</td>\n",
       "      <td>Miller-Roach</td>\n",
       "    </tr>\n",
       "    <tr>\n",
       "      <th>8</th>\n",
       "      <td>9</td>\n",
       "      <td>Campbell LLC</td>\n",
       "    </tr>\n",
       "    <tr>\n",
       "      <th>9</th>\n",
       "      <td>10</td>\n",
       "      <td>Mathews-Reynolds</td>\n",
       "    </tr>\n",
       "  </tbody>\n",
       "</table>\n",
       "</div>"
      ],
      "text/plain": [
       "   store_id                  store_name\n",
       "0         1    Weeks, Fischer and Green\n",
       "1         2              Burns and Sons\n",
       "2         3  Merritt, Morgan and Walker\n",
       "3         4  Grant, Smith and Velazquez\n",
       "4         5                 Green Group\n",
       "5         6   Hancock, Greene and Davis\n",
       "6         7                Morgan Group\n",
       "7         8                Miller-Roach\n",
       "8         9                Campbell LLC\n",
       "9        10            Mathews-Reynolds"
      ]
     },
     "execution_count": 15,
     "metadata": {},
     "output_type": "execute_result"
    }
   ],
   "source": [
    "fake = Faker()\n",
    "\n",
    "store_data = pd.DataFrame({\n",
    "    'store_id': range(1, 11),\n",
    "    'store_name': [fake.company() for _ in range(1, 11)]\n",
    "})\n",
    "\n",
    "store_data"
   ]
  },
  {
   "cell_type": "code",
   "execution_count": 16,
   "metadata": {},
   "outputs": [],
   "source": [
    "store_data.to_csv('store_id.csv', index=False)"
   ]
  },
  {
   "cell_type": "code",
   "execution_count": 17,
   "metadata": {},
   "outputs": [
    {
     "name": "stdout",
     "output_type": "stream",
     "text": [
      "<class 'pandas.core.frame.DataFrame'>\n",
      "RangeIndex: 1000 entries, 0 to 999\n",
      "Data columns (total 5 columns):\n",
      " #   Column       Non-Null Count  Dtype  \n",
      "---  ------       --------------  -----  \n",
      " 0   order_id     1000 non-null   int64  \n",
      " 1   customer_id  1000 non-null   int64  \n",
      " 2   product_id   1000 non-null   int64  \n",
      " 3   quantity     1000 non-null   int64  \n",
      " 4   total_price  1000 non-null   float64\n",
      "dtypes: float64(1), int64(4)\n",
      "memory usage: 39.2 KB\n",
      "None \n",
      "\n",
      "          order_id  customer_id   product_id     quantity  total_price\n",
      "count  1000.000000  1000.000000  1000.000000  1000.000000  1000.000000\n",
      "mean    500.500000    49.544000    25.793000     5.513000   499.329280\n",
      "std     288.819436    29.142672    14.504914     2.925473   282.995611\n",
      "min       1.000000     1.000000     1.000000     1.000000    12.400000\n",
      "25%     250.750000    24.000000    13.000000     3.000000   270.177500\n",
      "50%     500.500000    50.000000    26.000000     5.000000   498.740000\n",
      "75%     750.250000    75.000000    38.000000     8.000000   735.215000\n",
      "max    1000.000000   100.000000    50.000000    10.000000   999.330000\n",
      "     order_id  customer_id  product_id  quantity  total_price\n",
      "333       334           59           9         6       739.11\n",
      "214       215           44          18        10       255.31\n",
      "245       246           19          16         8       387.24\n",
      "464       465           78          48         7       870.54\n",
      "425       426           15          27         4       988.95\n",
      "<class 'pandas.core.frame.DataFrame'>\n",
      "Index: 1000 entries, 0 to 999\n",
      "Data columns (total 5 columns):\n",
      " #   Column       Non-Null Count  Dtype  \n",
      "---  ------       --------------  -----  \n",
      " 0   order_id     1000 non-null   int64  \n",
      " 1   customer_id  1000 non-null   int64  \n",
      " 2   product_id   1000 non-null   int64  \n",
      " 3   quantity     1000 non-null   int64  \n",
      " 4   total_price  1000 non-null   float64\n",
      "dtypes: float64(1), int64(4)\n",
      "memory usage: 46.9 KB\n",
      "None\n"
     ]
    }
   ],
   "source": [
    "print(df.info(),'\\n')\n",
    "print(df.describe())\n",
    "\n",
    "print(df.sample(5))\n",
    "\n",
    "with pd.HDFStore('orders.h5') as store:\n",
    "    store.put('orders', df, format='table')\n",
    "\n",
    "# Đọc dữ liệu từ file HDF5\n",
    "df_hdf5 = pd.read_hdf('orders.h5', 'orders')\n",
    "print(df_hdf5.info())"
   ]
  },
  {
   "cell_type": "markdown",
   "metadata": {},
   "source": [
    "BAI 3"
   ]
  },
  {
   "cell_type": "code",
   "execution_count": 18,
   "metadata": {},
   "outputs": [],
   "source": [
    "lab7_df = pd.read_csv('lab7_store_id.csv')\n",
    "store_df = pd.read_csv('store_id.csv')"
   ]
  },
  {
   "cell_type": "code",
   "execution_count": 19,
   "metadata": {},
   "outputs": [],
   "source": [
    "merged_df = lab7_df.merge(store_df, on='store_id', how='left')\n",
    "\n",
    "merged_df.to_csv('lab7_merged.csv', index=False)"
   ]
  },
  {
   "cell_type": "code",
   "execution_count": 28,
   "metadata": {},
   "outputs": [
    {
     "name": "stdout",
     "output_type": "stream",
     "text": [
      "Tổng số lượng đơn hàng: 1000\n",
      "Tổng doanh thu:499329.27999999997\n"
     ]
    }
   ],
   "source": [
    "def process_chunk(chunk):\n",
    "    summary = chunk.groupby('store_id').agg({'order_id': 'count', 'total_price': 'sum'})\n",
    "    return summary\n",
    "\n",
    "chunk_size = 1000\n",
    "total_orders = 0\n",
    "total_revenue = 0\n",
    "\n",
    "for chunk in pd.read_csv('lab7_merged.csv', chunksize=chunk_size):\n",
    "    chunk_summary = process_chunk(chunk)  # Kiểm tra kiểu dữ liệu của chunk_summary\n",
    "    if isinstance(chunk_summary, pd.DataFrame):  \n",
    "        total_orders += chunk_summary['order_id'].sum()\n",
    "        total_revenue += chunk_summary['total_price'].sum()\n",
    "    else:\n",
    "        print(\"Warning: process_chunk() không trả về DataFrame, hãy kiểm tra lại.\")\n",
    "\n",
    "print(f'Tổng số lượng đơn hàng: {total_orders}')\n",
    "print(f'Tổng doanh thu:{total_revenue}')"
   ]
  },
  {
   "cell_type": "markdown",
   "metadata": {},
   "source": [
    "BAI 4"
   ]
  },
  {
   "cell_type": "code",
   "execution_count": 30,
   "metadata": {},
   "outputs": [
    {
     "name": "stdout",
     "output_type": "stream",
     "text": [
      "          order_id  total_price\n",
      "store_id                       \n",
      "1              107     47478.48\n",
      "2              106     50981.38\n",
      "3              105     50394.89\n",
      "4              102     53070.54\n",
      "5               97     49324.60\n",
      "6              109     60376.92\n",
      "7               99     50751.43\n",
      "8               82     36494.27\n",
      "9               89     45878.76\n",
      "10             104     54578.01\n",
      "store_id\n",
      "1     67\n",
      "2     66\n",
      "3     62\n",
      "4     63\n",
      "5     64\n",
      "6     64\n",
      "7     64\n",
      "8     55\n",
      "9     57\n",
      "10    64\n",
      "Name: customer_id, dtype: int64\n",
      "             order_id  total_price\n",
      "customer_id                       \n",
      "1                  13      6256.85\n",
      "2                  10      4767.06\n",
      "3                  11      4303.60\n",
      "4                  17      9488.57\n",
      "5                   9      5248.37\n",
      "...               ...          ...\n",
      "96                 11      4023.31\n",
      "97                  5      3784.12\n",
      "98                  6      3506.17\n",
      "99                 12      3747.18\n",
      "100                13      7111.60\n",
      "\n",
      "[100 rows x 2 columns]\n"
     ]
    }
   ],
   "source": [
    "store_summary = merged_df.groupby('store_id').agg({'order_id': 'count', 'total_price': 'sum'})\n",
    "print(store_summary)\n",
    "\n",
    "# Tính số lượng khách hàng đặt hàng từ mỗi cửa hàng\n",
    "customer_count = merged_df.groupby('store_id')['customer_id'].nunique()\n",
    "print(customer_count)\n",
    "\n",
    "# Tính tổng số lượng đơn hàng và tổng doanh thu từ mỗi khách hàng\n",
    "customer_summary = merged_df.groupby('customer_id').agg({'order_id': 'count', 'total_price': 'sum'})\n",
    "print(customer_summary)"
   ]
  }
 ],
 "metadata": {
  "kernelspec": {
   "display_name": "Python 3",
   "language": "python",
   "name": "python3"
  },
  "language_info": {
   "codemirror_mode": {
    "name": "ipython",
    "version": 3
   },
   "file_extension": ".py",
   "mimetype": "text/x-python",
   "name": "python",
   "nbconvert_exporter": "python",
   "pygments_lexer": "ipython3",
   "version": "3.12.8"
  }
 },
 "nbformat": 4,
 "nbformat_minor": 2
}
